{
 "cells": [
  {
   "cell_type": "markdown",
   "id": "035b08e8",
   "metadata": {},
   "source": [
    "# Levenstien Edit Distance:"
   ]
  },
  {
   "cell_type": "code",
   "execution_count": 6,
   "id": "9188e6bc",
   "metadata": {},
   "outputs": [],
   "source": [
    "def levenstien(s1, s2):\n",
    "    if(len(s2) > len(s1)):\n",
    "        return levenstien(s2, s1)\n",
    "    arr = [[0 for i in range(len(s2)+1)] for j in range(len(s1)+1)]\n",
    "    for i in range(len(s1)+1):\n",
    "        arr[i][0] = i\n",
    "    for j in range(len(s2)+1):\n",
    "        arr[0][j] = j\n",
    "    for i, c1 in enumerate(s1):\n",
    "        for j , c2 in enumerate(s2):\n",
    "            deletions = arr[i][j+1] + 1\n",
    "            insertions = arr[i+1][j] + 1\n",
    "            substitutions = arr[i][j] + (c1!=c2)\n",
    "            arr[i+1][j+1] = min(deletions, insertions, substitutions)\n",
    "    return arr[len(s1)][len(s2)]"
   ]
  },
  {
   "cell_type": "code",
   "execution_count": 7,
   "id": "9770eb6a",
   "metadata": {},
   "outputs": [
    {
     "data": {
      "text/plain": [
       "4"
      ]
     },
     "execution_count": 7,
     "metadata": {},
     "output_type": "execute_result"
    }
   ],
   "source": [
    "levenstien(\"Madhav\", \"Madavian\")"
   ]
  },
  {
   "cell_type": "markdown",
   "id": "40e1adab",
   "metadata": {},
   "source": [
    "# Jaro-Winkler Edit Distance:"
   ]
  },
  {
   "cell_type": "code",
   "execution_count": 8,
   "id": "c577f8eb",
   "metadata": {},
   "outputs": [],
   "source": [
    "def matching(s1, s2):\n",
    "    count = 0\n",
    "    if(s1 is None or s2 is None):\n",
    "        return count\n",
    "    else:\n",
    "        size = min(len(s1), len(s2))\n",
    "        for i in range(size):\n",
    "            if(s1[i] == s2[i]):\n",
    "                count += 1\n",
    "        return count\n",
    "def transpose(s1, s2):\n",
    "    count = 0\n",
    "    if(s1 is None or s2 is None):\n",
    "        return count\n",
    "    else:\n",
    "        size = min(len(s1), len(s2))\n",
    "        for i in range(size-1):\n",
    "            if(s1[i]+s1[i+1] == s2[i+1]+s2[i]):\n",
    "                count += 1\n",
    "        return count\n",
    "    \n",
    "def jaroWinkler(s1, s2):\n",
    "    m = matching(s1, s2)\n",
    "    t = transpose(s1, s2)\n",
    "    if m == 0:\n",
    "        sim = 0\n",
    "    else:\n",
    "        sim = 1/3*(m/len(s1)+m/len(s2)+(m-t)/m)\n",
    "    return sim"
   ]
  },
  {
   "cell_type": "code",
   "execution_count": 9,
   "id": "e5ce6d82",
   "metadata": {},
   "outputs": [
    {
     "data": {
      "text/plain": [
       "0.8666666666666667"
      ]
     },
     "execution_count": 9,
     "metadata": {},
     "output_type": "execute_result"
    }
   ],
   "source": [
    "jaroWinkler('bimal', 'vimal')"
   ]
  },
  {
   "cell_type": "markdown",
   "id": "efdadaf3",
   "metadata": {},
   "source": [
    "# Handling Files"
   ]
  },
  {
   "cell_type": "code",
   "execution_count": 10,
   "id": "556302e9",
   "metadata": {},
   "outputs": [],
   "source": [
    "unigrams = open('unigram.csv').read().splitlines()"
   ]
  },
  {
   "cell_type": "code",
   "execution_count": 11,
   "id": "acbcd09a",
   "metadata": {},
   "outputs": [
    {
     "name": "stdout",
     "output_type": "stream",
     "text": [
      "foul ,  1\n"
     ]
    }
   ],
   "source": [
    "print(unigrams[0])"
   ]
  },
  {
   "cell_type": "code",
   "execution_count": 12,
   "id": "917249a8",
   "metadata": {},
   "outputs": [],
   "source": [
    "unigramWords = {}\n",
    "for unigram in unigrams:\n",
    "    word = unigram.split(',')\n",
    "    unigramWords[word[0].strip()] = int(word[1].strip())"
   ]
  },
  {
   "cell_type": "markdown",
   "id": "e156e82b",
   "metadata": {},
   "source": [
    "### Printing words similar to the given word in the unigram.csv file [ whose levenstien edit distance is less than 1]"
   ]
  },
  {
   "cell_type": "code",
   "execution_count": 13,
   "id": "6d5f2b8a",
   "metadata": {
    "scrolled": true
   },
   "outputs": [
    {
     "name": "stdout",
     "output_type": "stream",
     "text": [
      "sad\n",
      "say\n",
      "saw\n",
      "sat\n",
      "sail\n",
      "sari\n",
      "said\n"
     ]
    }
   ],
   "source": [
    "for item in unigramWords.keys():\n",
    "    if levenstien('sai', item) <= 1:\n",
    "        print(item)"
   ]
  },
  {
   "cell_type": "code",
   "execution_count": 14,
   "id": "16284f81",
   "metadata": {},
   "outputs": [],
   "source": [
    "bigrams = open('bigrams.csv').read().splitlines()\n",
    "bigramWords = {}\n",
    "for bigram in bigrams:\n",
    "    word = bigram.split(',')\n",
    "    bigramWords[word[0].strip()] = int(word[1].strip())"
   ]
  },
  {
   "cell_type": "markdown",
   "id": "9fb296f0",
   "metadata": {},
   "source": [
    "### Printing the probabilty of words iron safe occuring one after another given safe has occured"
   ]
  },
  {
   "cell_type": "code",
   "execution_count": 20,
   "id": "ab58f06c",
   "metadata": {},
   "outputs": [
    {
     "name": "stdout",
     "output_type": "stream",
     "text": [
      "0.6666666666666666\n"
     ]
    }
   ],
   "source": [
    "print(bigramWords['iron safe']/unigramWords['iron'])"
   ]
  },
  {
   "cell_type": "code",
   "execution_count": 39,
   "id": "9540c4f1",
   "metadata": {},
   "outputs": [
    {
     "name": "stdout",
     "output_type": "stream",
     "text": [
      "0.009802443070426783 <s> sandip\n",
      "0.009051094890510949 sandip babu\n",
      "0.0001490757304710793 babu sang\n",
      "0.00015078407720144752 sang bande\n",
      "0.005848830233953209 bande mataram\n",
      "0.00014997000599880023 mataram </s>\n",
      "</s>\n",
      "1.749328211056289e-18\n",
      "0.0009048408988086261 <s> chandranath\n",
      "0.0018069567836169252 chandranath babu\n",
      "0.0001490757304710793 babu asked\n",
      "0.00014952153110047846 asked for\n",
      "for\n",
      "0.00030147723846849563 betel leaves\n",
      "0.00015062509414068384 leaves </s>\n",
      "</s>\n",
      "1.654941054548257e-21\n",
      "0.0012064545317448348 <s> poor\n",
      "0.0004505180958101817 poor bimala\n",
      "0.00029770765108663293 bimala went\n",
      "0.00014905351021016544 went to\n",
      "0.0001506931886678722 to the\n",
      "0.00015071590052750564 the dressing\n",
      "0.001053423626787058 dressing room\n",
      "0.0001483459427384661 room </s>\n",
      "</s>\n",
      "8.560257448823194e-29\n"
     ]
    }
   ],
   "source": [
    "unigramWords['<s>'] = 1\n",
    "unigramWords['</s>'] = 1\n",
    "s2 = ['<s> sandip babu sang bande mataram </s>','<s> chandranath babu asked for betel leaves </s>','<s> poor bimala went to the dressing room </s>']\n",
    "for item in s2:\n",
    "    multi = 1\n",
    "    for i, s in enumerate(item.split()):\n",
    "        try:\n",
    "            p = (bigramWords[s+' '+item.split()[i+1]] + 1)/(unigramWords[s] + len(unigramWords.keys()))\n",
    "            print(p, s+' '+item.split()[i+1])\n",
    "            multi = multi * p\n",
    "        except:\n",
    "            try:\n",
    "                p = (1)/(unigramWords[s] + len(unigramWords.keys()))\n",
    "                print(p, s+' '+item.split()[i+1])\n",
    "                multi = multi * p\n",
    "            except:\n",
    "                print(s)\n",
    "    print(multi)\n",
    "\n",
    "\n"
   ]
  },
  {
   "cell_type": "code",
   "execution_count": 48,
   "id": "7e84817c",
   "metadata": {},
   "outputs": [
    {
     "name": "stdout",
     "output_type": "stream",
     "text": [
      "0.0684931506849315\n"
     ]
    }
   ],
   "source": [
    "bigramProbability = bigramWords['come back']/unigramWords['come']\n",
    "print(bigramProbability)"
   ]
  },
  {
   "cell_type": "markdown",
   "id": "2f7d80c6",
   "metadata": {},
   "source": [
    "### Add-one Smoothing"
   ]
  },
  {
   "cell_type": "code",
   "execution_count": 50,
   "id": "6065199d",
   "metadata": {},
   "outputs": [
    {
     "name": "stdout",
     "output_type": "stream",
     "text": [
      "0.0016233766233766235\n"
     ]
    }
   ],
   "source": [
    "bigramProbability = (bigramWords['come back'] + 1.0)/((unigramWords['come']*1.0)+len(unigramWords.keys()))\n",
    "print(bigramProbability)"
   ]
  },
  {
   "cell_type": "code",
   "execution_count": null,
   "id": "bd07071c",
   "metadata": {},
   "outputs": [],
   "source": [
    "import gensim"
   ]
  }
 ],
 "metadata": {
  "kernelspec": {
   "display_name": "Python 3 (ipykernel)",
   "language": "python",
   "name": "python3"
  },
  "language_info": {
   "codemirror_mode": {
    "name": "ipython",
    "version": 3
   },
   "file_extension": ".py",
   "mimetype": "text/x-python",
   "name": "python",
   "nbconvert_exporter": "python",
   "pygments_lexer": "ipython3",
   "version": "3.9.12"
  }
 },
 "nbformat": 4,
 "nbformat_minor": 5
}
